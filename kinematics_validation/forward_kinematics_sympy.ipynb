{
 "cells": [
  {
   "cell_type": "code",
   "execution_count": 1,
   "id": "5c591cf7",
   "metadata": {},
   "outputs": [
    {
     "name": "stdout",
     "output_type": "stream",
     "text": [
      "⎡1.0   0     0     0  ⎤\n",
      "⎢                     ⎥\n",
      "⎢ 0    0    1.0  0.28 ⎥\n",
      "⎢                     ⎥\n",
      "⎢ 0   -1.0   0   1.735⎥\n",
      "⎢                     ⎥\n",
      "⎣ 0    0     0    1.0 ⎦\n"
     ]
    }
   ],
   "source": [
    "# importing libraries\n",
    "import sympy as sp\n",
    "import math\n",
    "\n",
    "#defining a class for forward kinematics\n",
    "class RobotArm:\n",
    "    def __init__(self):\n",
    "        self.theta_1, self.theta_2, self.theta_3, self.theta_4, self.theta_5, self.theta_6 = sp.symbols(\"theta_1 theta_2 theta_3 theta_4 theta_5 theta_6\")\n",
    "        \n",
    "        self.DH_parameters = [\n",
    "            [self.theta_1, 0.160, 0, -sp.pi/2],\n",
    "            [self.theta_2 + sp.pi/2, 0, -0.690, sp.pi],\n",
    "            [self.theta_3, 0, -0.690, 0],\n",
    "            [self.theta_4 + sp.pi/2, -0.195, 0, -sp.pi/2],\n",
    "            [self.theta_5, 0.195, 0, -sp.pi/2],\n",
    "            [self.theta_6, 0.085, 0, 0]\n",
    "        ]\n",
    "        \n",
    "        # declaration of cumulative transformation matrix\n",
    "        # identity matrix is declared here\n",
    "        self.cumulative_transform = sp.eye(4)\n",
    "        self.cumulative_matrices = []\n",
    "        self.compute_transform_matrices()\n",
    "\n",
    "    # DH transformation matrix equation\n",
    "    def transformation_matrix(self, theta, d, a, alpha):\n",
    "        T = sp.Matrix([\n",
    "            [sp.cos(theta), -sp.sin(theta) * sp.cos(alpha), sp.sin(theta) * sp.sin(alpha), a * sp.cos(theta)],\n",
    "            [sp.sin(theta), sp.cos(theta) * sp.cos(alpha), -sp.cos(theta) * sp.sin(alpha), a * sp.sin(theta)],\n",
    "            [0, sp.sin(alpha), sp.cos(alpha), d],\n",
    "            [0, 0, 0, 1]])\n",
    "\n",
    "        return T\n",
    "\n",
    "    #method to compute transformation matrix. These matrices are added to the cumulative matrix.\n",
    "    def compute_transform_matrices(self):\n",
    "        for i, params in enumerate(self.DH_parameters):\n",
    "            self.cumulative_transform = self.cumulative_transform * self.transformation_matrix(*params)\n",
    "            self.cumulative_matrices.append(self.cumulative_transform)\n",
    "    \n",
    "    #method for final transformation matrix \n",
    "    def forward_kinematics(self, theta1, theta2, theta3, theta4, theta5, theta6):\n",
    "        T_f = self.cumulative_matrices[-1].subs([(self.theta_1, theta1), (self.theta_2, theta2),\n",
    "                                                  (self.theta_3, theta3), (self.theta_4, theta4),\n",
    "                                                  (self.theta_5, theta5), (self.theta_6, theta6)])\n",
    "        return T_f\n",
    "\n",
    "#  Forward Kinematics\n",
    "robot = RobotArm()\n",
    "# all joint angles as zero\n",
    "end_effector_position = robot.forward_kinematics(0,0,0,0,0,0)\n",
    "# getting rounded end effector position\n",
    "rounded_end_effector_position = end_effector_position.evalf().applyfunc(lambda x: round(x, 3))\n",
    "#printing\n",
    "sp.pprint(rounded_end_effector_position, use_unicode=True, num_columns=120, wrap_line=False)"
   ]
  }
 ],
 "metadata": {
  "kernelspec": {
   "display_name": "Python 3 (ipykernel)",
   "language": "python",
   "name": "python3"
  },
  "language_info": {
   "codemirror_mode": {
    "name": "ipython",
    "version": 3
   },
   "file_extension": ".py",
   "mimetype": "text/x-python",
   "name": "python",
   "nbconvert_exporter": "python",
   "pygments_lexer": "ipython3",
   "version": "3.11.0"
  }
 },
 "nbformat": 4,
 "nbformat_minor": 5
}
